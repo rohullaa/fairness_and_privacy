{
 "cells": [
  {
   "cell_type": "code",
   "execution_count": 2,
   "id": "0c26e2c9-d39b-44ee-afc5-0ef9d7362f01",
   "metadata": {},
   "outputs": [],
   "source": [
    "import pandas as pd\n",
    "import numpy as np"
   ]
  },
  {
   "cell_type": "code",
   "execution_count": 123,
   "id": "582dd35b-0f53-42e8-afc5-8eb130199ac5",
   "metadata": {},
   "outputs": [],
   "source": [
    "class PrivacyPolicy:\n",
    "    def __init__(self, features, actions, outcome):\n",
    "        self.features = features\n",
    "        self.actions = actions\n",
    "        self.outcome = outcome\n",
    "        \n",
    "    def exponential_mechanism(self, epsilon):\n",
    "        \"\"\"\n",
    "        Given a set of actions and a utility function, this function returns the noisy 'best' action.\n",
    "        Since our utility function at the moment does not depend on actions, only outcome, the results are expected to be random.  \n",
    "        \"\"\"\n",
    "        best_actions = []\n",
    "        for i in range(self.features.shape[0]):\n",
    "            utility = np.array([self.get_utility(self.features.iloc[i,:], action, self.outcome.iloc[i,:]) for action in self.actions.iloc[i,:]])\n",
    "            policy_probs = np.exp(epsilon*utility/2*self.sensitivity)\n",
    "            policy_probs = policy_probs/np.linalg.norm(policy_probs, ord=1)\n",
    "            best_actions.append(np.random.choice(self.actions.columns, 1, p=policy_probs.ravel())[0])\n",
    "        return best_actions\n",
    "\n",
    "    def get_utility(self, features, action, outcome):\n",
    "        utility = 0\n",
    "        utility -= 0.2 * sum(outcome[['Covid-Positive']])\n",
    "        utility -= 0.1 * sum(outcome[['Taste']])\n",
    "        utility -= 0.1 * sum(outcome[['Fever']])\n",
    "        utility -= 0.1 * sum(outcome[['Headache']])\n",
    "        utility -= 0.5 * sum(outcome[['Pneumonia']])\n",
    "        utility -= 0.2 * sum(outcome[['Stomach']])\n",
    "        utility -= 0.5 * sum(outcome[['Myocarditis']])\n",
    "        utility -= 1.0 * sum(outcome[['Blood-Clots']])\n",
    "        utility -= 100.0 * sum(outcome[['Death']])\n",
    "        \n",
    "        self.sensitivity = 100\n",
    "        return utility"
   ]
  },
  {
   "cell_type": "code",
   "execution_count": 124,
   "id": "9e0e2d50-8daa-4d66-bd14-c18af37b6f52",
   "metadata": {},
   "outputs": [],
   "source": [
    "symptoms = pd.DataFrame({\n",
    "'Covid-Positive': [1,1,1,1,1,1,1,1,1,1],\n",
    "'Taste': [0,0,0,0,0,1,1,1,1,1],\n",
    "'Fever': [1,0,1,0,1,0,1,0,1,0],\n",
    "'Headache': [1,1,0,0,1,1,0,0,1,1],\n",
    "'Pneumonia': [0,0,1,1,0,0,1,1,0,0],\n",
    "'Stomach': [0,1,0,1,0,1,0,1,0,1],\n",
    "'Myocarditis': [0,0,0,0,0,0,0,0,0,0],\n",
    "'Blood-Clots': [0,0,0,0,0,0,0,0,0,0],\n",
    "'Death': [0,0,0,0,0,0,0,0,0,1]})\n",
    "actions = pd.DataFrame({\n",
    "'Action0': [1,1,1,0,0,0,0,0,0,0],\n",
    "'Action1': [0,0,0,1,1,1,1,0,0,0],\n",
    "'Action2': [0,0,0,0,0,1,1,1,1,0],\n",
    "'Action3': [0,0,0,0,0,1,0,0,0,0]})\n",
    "outcome = pd.DataFrame({\n",
    "'Covid-Positive': [1,1,1,0,1,1,1,0,1,1],\n",
    "'Taste': [0,0,0,0,0,1,0,0,1,1],\n",
    "'Fever': [1,0,0,0,1,0,0,0,1,0],\n",
    "'Headache': [1,1,0,0,1,1,0,0,1,1],\n",
    "'Pneumonia': [0,0,1,0,0,0,1,0,0,0],\n",
    "'Stomach': [0,0,0,1,0,0,0,1,0,1],\n",
    "'Myocarditis': [0,0,0,0,0,0,0,0,0,0],\n",
    "'Blood-Clots': [0,0,0,0,0,0,0,0,0,0],\n",
    "'Death': [0,0,0,0,0,0,0,0,0,1]})"
   ]
  },
  {
   "cell_type": "code",
   "execution_count": 125,
   "id": "96236119-ab6d-42d2-ac4f-48ca33df5fcc",
   "metadata": {},
   "outputs": [],
   "source": [
    "privpol = PrivacyPolicy(symptoms,actions,outcome)"
   ]
  },
  {
   "cell_type": "code",
   "execution_count": 126,
   "id": "bec37630-2230-4937-b296-5c18632ba4bd",
   "metadata": {},
   "outputs": [
    {
     "data": {
      "text/plain": [
       "['Action2',\n",
       " 'Action0',\n",
       " 'Action0',\n",
       " 'Action3',\n",
       " 'Action1',\n",
       " 'Action0',\n",
       " 'Action1',\n",
       " 'Action2',\n",
       " 'Action2',\n",
       " 'Action0']"
      ]
     },
     "execution_count": 126,
     "metadata": {},
     "output_type": "execute_result"
    }
   ],
   "source": [
    "privpol.exponential_mechanism(0.1)"
   ]
  },
  {
   "cell_type": "code",
   "execution_count": null,
   "id": "aed47466-63ab-4176-9dd1-e80b746bf839",
   "metadata": {},
   "outputs": [],
   "source": []
  },
  {
   "cell_type": "code",
   "execution_count": null,
   "id": "b3004b15-6db7-46b0-b77d-6dde5fb8c78b",
   "metadata": {},
   "outputs": [],
   "source": []
  }
 ],
 "metadata": {
  "kernelspec": {
   "display_name": "Python 3",
   "language": "python",
   "name": "python3"
  },
  "language_info": {
   "codemirror_mode": {
    "name": "ipython",
    "version": 3
   },
   "file_extension": ".py",
   "mimetype": "text/x-python",
   "name": "python",
   "nbconvert_exporter": "python",
   "pygments_lexer": "ipython3",
   "version": "3.6.4"
  }
 },
 "nbformat": 4,
 "nbformat_minor": 5
}
