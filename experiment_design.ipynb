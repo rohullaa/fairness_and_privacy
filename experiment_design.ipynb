{
 "cells": [
  {
   "cell_type": "markdown",
   "id": "46312e2a-45c2-4513-bdba-4bd1be18882e",
   "metadata": {},
   "source": [
    "## Experiment design"
   ]
  },
  {
   "cell_type": "code",
   "execution_count": 2,
   "id": "4b9846b8-d636-4f1a-b62a-94c3b522e406",
   "metadata": {},
   "outputs": [],
   "source": [
    "import sys\n",
    "import pandas as pd\n",
    "import numpy as np\n",
    "import matplotlib.pyplot as plt\n",
    "from sklearn.model_selection import train_test_split\n",
    "from sklearn.neural_network import MLPClassifier\n",
    "from sklearn.preprocessing import StandardScaler\n",
    "from sklearn.metrics import accuracy_score\n",
    "import random\n",
    "random.seed(10)\n",
    "\n",
    "from policy import Policy"
   ]
  },
  {
   "cell_type": "code",
   "execution_count": 95,
   "id": "50696805-0afc-467a-b3b9-bc64ada9c0a3",
   "metadata": {},
   "outputs": [],
   "source": [
    "treat_data = pd.read_csv(\"treatment_features.csv\",header=None)\n",
    "action_data = pd.read_csv(\"treatment_actions.csv\",header=None)\n",
    "outcome_data = pd.read_csv(\"treatment_outcomes.csv\",header=None)\n",
    "\n",
    "symptom_names = ['Covid-Recovered', 'Covid-Positive', 'No-Taste/Smell', 'Fever', 'Headache', \n",
    "                  'Pneumonia', 'Stomach', 'Myocarditis', 'Blood-Clots', 'Death','Age', 'Gender', 'Income']\n",
    "cols = ( symptom_names +\n",
    "         [f'Gene_{i+1:03}' for i in range(128)] +\n",
    "         ['Asthma', 'Obesity', 'Smoking', 'Diabetes', 'Heart disease', 'Hypertension',\n",
    "         'Vacc_1', 'Vacc_2', 'Vacc_3'])\n",
    "\n",
    "treat_data.columns = cols\n",
    "outcome_data.columns = cols[:10]\n",
    "action_data.columns = ['Treatment_1', 'Treatment_2']"
   ]
  },
  {
   "cell_type": "markdown",
   "id": "df9cf76f-021a-413f-8469-2bb7aac8bff2",
   "metadata": {},
   "source": [
    "## Estimaring the $P(y|x,a)$:"
   ]
  },
  {
   "cell_type": "code",
   "execution_count": 246,
   "id": "cfeef3cf-e2d3-445c-ab44-52fe100b6580",
   "metadata": {},
   "outputs": [],
   "source": [
    "X = treat_data\n",
    "y=Y = outcome_data\n",
    "a = action_data \n",
    "\n",
    "X_tr,X_ts,Y_tr,Y_ts = train_test_split(X,Y,test_size=0.33,random_state=1)\n"
   ]
  },
  {
   "cell_type": "code",
   "execution_count": 408,
   "id": "c8e40759",
   "metadata": {},
   "outputs": [],
   "source": [
    "class MLPModel(MLPClassifier):\n",
    "    def __init__(self, **kwargs):\n",
    "        super().__init__(**kwargs)\n",
    "        \n",
    "    def get_probabilities(self, features, action):\n",
    "        features = features.assign(**{action:np.ones(features.shape[0])})\n",
    "\n",
    "        return self.predict_proba(features)"
   ]
  },
  {
   "cell_type": "code",
   "execution_count": 405,
   "id": "218755df",
   "metadata": {},
   "outputs": [
    {
     "name": "stdout",
     "output_type": "stream",
     "text": [
      "Initialising policy with  2 actions\n",
      "A = { ['Treatment_1', 'Treatment_2'] }\n"
     ]
    }
   ],
   "source": [
    "class NewPolicy(Policy):\n",
    "    def __init__(self, n_actions, action_set):\n",
    "        super().__init__(n_actions, action_set)\n",
    "        self.model = MLPModel(activation='logistic', #max_iter=10_000,\n",
    "                           warm_start=True, random_state=0)\n",
    "        \n",
    "        self.weights = {'Covid-Recovered': 0, \n",
    "                         'Covid-Positive': .2, \n",
    "                         'No-Taste/Smell': .1, \n",
    "                         'Fever': .1, \n",
    "                         'Headache': .1,\n",
    "                         'Pneumonia': .5,\n",
    "                         'Stomach': .2, \n",
    "                         'Myocarditis': .5, \n",
    "                         'Blood-Clots': 1,\n",
    "                         'Death': 100}\n",
    "    \n",
    "    def observe(self, features, action, outcome):\n",
    "        features = features.assign(**{key:action[key] for key in action})\n",
    "        self.model.fit(features, outcome)\n",
    "        \n",
    "    def get_utility(self, features, action, outcome):\n",
    "        \"\"\" Treatment 2 is more 'costly' than treatment 1, so associate somewhat lower\n",
    "        utility to treatment 2. Outcomes are weighted more highly than previous condition, \n",
    "        but it is better to have had a symptom and then remove it, than just never having \n",
    "        the symptom. \n",
    "        \"\"\"\n",
    "        utility = 0\n",
    "        for key in action:\n",
    "            utility -= sum(action[key]) * np.log(self.action_set.index(key) + 2)\n",
    "            \n",
    "        #actions = self.get_action(features)\n",
    "        for key, weight in self.weights.items():\n",
    "            utility += weight * sum(0.7 * features.loc[:, key] - outcome.loc[:, key])\n",
    "        \n",
    "        return utility\n",
    "    \n",
    "    def get_expected_utility(self, action, p):\n",
    "        utility = np.zeros(p.shape[0])\n",
    "        #utility -= np.log(self.action_set.index(action)+2)\n",
    "    \n",
    "        weights = np.array(list(self.weights.values()))\n",
    "        \n",
    "        utility -= (p @ weights.T)\n",
    "        \n",
    "        return utility\n",
    "             \n",
    "    \n",
    "    def get_action(self, features):\n",
    "        \"\"\" Get actions for one or more people. \n",
    "        Args: \n",
    "        features (t*|X| array)\n",
    "        Returns: \n",
    "        actions (t*|A| array)\n",
    "        \"\"\"\n",
    "        features = features.assign(**{key:np.zeros(features.shape[0])\n",
    "                                      for key in self.action_set})\n",
    "        res = []\n",
    "        for action in (self.action_set):\n",
    "            p = self.model.get_probabilities(features, action)\n",
    "            res.append(self.get_expected_utility(action, p))\n",
    "\n",
    "        return np.argmax(res, axis=0)\n",
    "        \n",
    "        \n",
    "pol = NewPolicy(2, ['Treatment_1', 'Treatment_2'])"
   ]
  },
  {
   "cell_type": "code",
   "execution_count": 410,
   "id": "4ad2fb1e",
   "metadata": {},
   "outputs": [],
   "source": [
    "pol.observe(X_tr, a[a.index.isin(Y_tr.index)], Y_tr)"
   ]
  },
  {
   "cell_type": "code",
   "execution_count": 411,
   "id": "1deea781",
   "metadata": {},
   "outputs": [],
   "source": [
    "acts = pol.get_action(X_ts)"
   ]
  },
  {
   "cell_type": "code",
   "execution_count": 412,
   "id": "8f9166e5",
   "metadata": {},
   "outputs": [
    {
     "data": {
      "text/plain": [
       "(1075, (3353,))"
      ]
     },
     "execution_count": 412,
     "metadata": {},
     "output_type": "execute_result"
    }
   ],
   "source": [
    "sum(acts), acts.shape"
   ]
  },
  {
   "cell_type": "code",
   "execution_count": 413,
   "id": "17f729b7",
   "metadata": {},
   "outputs": [
    {
     "data": {
      "text/plain": [
       "281.01670360944445"
      ]
     },
     "execution_count": 413,
     "metadata": {},
     "output_type": "execute_result"
    }
   ],
   "source": [
    "pol.get_utility(X_ts, a[a.index.isin(Y_ts.index)], Y_ts, )"
   ]
  },
  {
   "cell_type": "code",
   "execution_count": 414,
   "id": "35c466a7",
   "metadata": {},
   "outputs": [
    {
     "data": {
      "text/plain": [
       "-185.85376017977342"
      ]
     },
     "execution_count": 414,
     "metadata": {},
     "output_type": "execute_result"
    }
   ],
   "source": [
    "pol.get_utility(X_tr, a[a.index.isin(Y_tr.index)], Y_tr, )"
   ]
  },
  {
   "cell_type": "code",
   "execution_count": 415,
   "id": "fb3a1c07",
   "metadata": {},
   "outputs": [
    {
     "data": {
      "text/plain": [
       "95.16294342957735"
      ]
     },
     "execution_count": 415,
     "metadata": {},
     "output_type": "execute_result"
    }
   ],
   "source": [
    "pol.get_utility(X, a, Y)"
   ]
  },
  {
   "cell_type": "code",
   "execution_count": 403,
   "id": "22c33094-ad4d-4aab-a9bc-7d21c742015e",
   "metadata": {},
   "outputs": [],
   "source": [
    "X1 = X[a['Treatment_1'] == 1]\n",
    "X2 = X[a['Treatment_2'] == 1]\n",
    "\n",
    "#y1 = pd.DataFrame([Y.iloc[i] for i in range(len(a)) if a.iloc[i][0] == 1])\n",
    "#y2 = pd.DataFrame([Y.iloc[i] for i in range(len(a)) if a.iloc[i][1] == 1])\n",
    "\n",
    "y1 = y[a['Treatment_1'] == 1]\n",
    "y2 = y[a['Treatment_2'] == 1]"
   ]
  },
  {
   "cell_type": "markdown",
   "id": "9308f1ea-d685-44a2-9f16-d49b68cb2ee5",
   "metadata": {},
   "source": [
    "## Utility"
   ]
  },
  {
   "cell_type": "code",
   "execution_count": 6,
   "id": "ccec65ef-6f15-456c-bbd5-7c17f0c0c207",
   "metadata": {},
   "outputs": [],
   "source": [
    "def get_utility(features, action, outcome):\n",
    "    \"\"\"Here the utiliy is defined in terms of the outcomes obtained only, ignoring both the treatment and the previous condition.\n",
    "    \"\"\"\n",
    "    \"\"\"for i, symptom in enumerate(symptom_names):\n",
    "    utility[I] = weights[symptom] * outcome[symptom] \"\"\"\n",
    "    \n",
    "    utility = np.zeros(10)\n",
    "\n",
    "    utility[0] -= 0\n",
    "    utility[1] -= 0\n",
    "    utility[2]  -= 0.1 * sum(outcome['No-Taste/Smell'])\n",
    "    utility[3]  -= 0.1 * sum(outcome['Fever'])\n",
    "    utility[4]  -= 0.1 * sum(outcome['Headache'])\n",
    "    utility[5]  -= 0.5 * sum(outcome['Pneumonia'])\n",
    "    utility[6]  -= 0.2 * sum(outcome['Stomach'])\n",
    "    utility[7]  -= 0.5 * sum(outcome['Myocarditis'])\n",
    "    utility[8]  -= 1.0 * sum(outcome['Blood-Clots'])\n",
    "    utility[9]  -= 100.0 * sum(outcome['Death'])\n",
    "    \n",
    "    return utility"
   ]
  },
  {
   "cell_type": "markdown",
   "id": "0a660e0d-1f4b-4432-b71a-d5b70651947a",
   "metadata": {},
   "source": [
    "## Estimating:\n",
    "$$\\sum P(y|x,a) \\; u(a,y)$$"
   ]
  },
  {
   "cell_type": "code",
   "execution_count": 7,
   "id": "76571f87-7977-4b1a-a915-abb9548d5d16",
   "metadata": {},
   "outputs": [],
   "source": [
    "u1 = get_utility(None,None,y1)\n",
    "u2 = get_utility(None,None,y2)"
   ]
  },
  {
   "cell_type": "code",
   "execution_count": 8,
   "id": "3d57a7ef-bf96-496a-80d0-176e62ffaf43",
   "metadata": {},
   "outputs": [],
   "source": [
    "y2_proba = train_pred(X2,y2)\n",
    "y1_proba = train_pred(X1,y1)"
   ]
  },
  {
   "cell_type": "code",
   "execution_count": 9,
   "id": "6910dc50-43da-451c-a181-fcab49a63dee",
   "metadata": {},
   "outputs": [],
   "source": [
    "expected_utility1 = np.array([u*y for u,y in zip(u1,y1_proba)])\n",
    "expected_utility2 = np.array([u*y for u,y in zip(u2,y2_proba)])"
   ]
  },
  {
   "cell_type": "code",
   "execution_count": 10,
   "id": "f6b79ddb-9cbd-4317-9bef-353eab772ec8",
   "metadata": {},
   "outputs": [
    {
     "data": {
      "text/plain": [
       "-5.786567040926596"
      ]
     },
     "execution_count": 10,
     "metadata": {},
     "output_type": "execute_result"
    }
   ],
   "source": [
    "y1_proba.T @ u1"
   ]
  },
  {
   "cell_type": "code",
   "execution_count": 11,
   "id": "6fc19594-7026-44ec-a830-13dbfd120de2",
   "metadata": {},
   "outputs": [
    {
     "data": {
      "text/plain": [
       "-750.9740762834626"
      ]
     },
     "execution_count": 11,
     "metadata": {},
     "output_type": "execute_result"
    }
   ],
   "source": [
    "y2_proba.T @ u2"
   ]
  },
  {
   "cell_type": "code",
   "execution_count": 12,
   "id": "611051b4-11b2-4298-aed1-7b7af68e7e48",
   "metadata": {},
   "outputs": [
    {
     "data": {
      "text/plain": [
       "-0.0011556954345769113"
      ]
     },
     "execution_count": 12,
     "metadata": {},
     "output_type": "execute_result"
    }
   ],
   "source": [
    "sum(expected_utility1)/len(X1)"
   ]
  },
  {
   "cell_type": "code",
   "execution_count": 13,
   "id": "19b0405a-190f-4d30-b901-4ee9dbc0856f",
   "metadata": {},
   "outputs": [
    {
     "data": {
      "text/plain": [
       "-0.1457353146290438"
      ]
     },
     "execution_count": 13,
     "metadata": {},
     "output_type": "execute_result"
    }
   ],
   "source": [
    "sum(expected_utility2)/len(X2)"
   ]
  },
  {
   "cell_type": "markdown",
   "id": "579d8349-6081-49c2-90a8-8f861947fcf4",
   "metadata": {},
   "source": [
    "### Defining the utility"
   ]
  },
  {
   "cell_type": "code",
   "execution_count": 14,
   "id": "9e2d96f4-d7d4-43fb-b569-2219f3c75830",
   "metadata": {},
   "outputs": [],
   "source": [
    "#finding optimal action for given symptoms for each individual\n",
    "\n",
    "optimal_action = np.zeros([X.shape[0],2])\n",
    "for i in range(X.shape[0]):\n",
    "    index = np.argwhere(np.array(X.iloc[i,2:10]) == np.ones(8)).flatten().tolist()\n",
    "    \n",
    "    if len(index) > 0:\n",
    "        if np.sum(expected_utility1[index]) >= np.sum(expected_utility2[index]):\n",
    "            optimal_action[i,0] = 1\n",
    "        else:\n",
    "            optimal_action[i,1] = 1"
   ]
  },
  {
   "cell_type": "markdown",
   "id": "6fe7876b-35d0-49bf-9c19-0637175b9960",
   "metadata": {
    "tags": []
   },
   "source": [
    "## Bootstrap the data for:\n",
    "Provide error bounds on the expected utility and explain how those were obtained."
   ]
  },
  {
   "cell_type": "markdown",
   "id": "94e7218e-98ee-4315-9595-1f5b8d444b9f",
   "metadata": {},
   "source": [
    "## Expected utility for improved policy"
   ]
  },
  {
   "cell_type": "code",
   "execution_count": 15,
   "id": "c541b607-ca97-47a5-8a06-05ce0c7e739a",
   "metadata": {},
   "outputs": [],
   "source": [
    "X1_improved = pd.DataFrame([X.iloc[i] for i in range(len(optimal_action)) if optimal_action[i][0] == 1])\n",
    "X2_improved = pd.DataFrame([X.iloc[i] for i in range(len(optimal_action)) if optimal_action[i][1] == 1])"
   ]
  },
  {
   "cell_type": "code",
   "execution_count": 276,
   "id": "bc02a213-be3f-41d4-8f4e-da82fd67de39",
   "metadata": {},
   "outputs": [],
   "source": [
    "#taken from \"simulator.py\" file\n",
    "\n",
    "def treatment(X,p):\n",
    "    A = np.random.uniform(size=[2,8])\n",
    "    treatments = np.zeros([X.shape[0], 2])\n",
    "    result = np.zeros([X.shape[0], 8])\n",
    "    for t in range(X.shape[0]):\n",
    "        treatments[t] = optimal_action[t]\n",
    "        r = np.array(np.matrix(treatments[t]) * A).flatten()\n",
    "        for k in range(8):\n",
    "            result[t,k] = np.random.choice(2,p=[1-p[k],p[k]])\n",
    "        ##print(\"X:\", X[t,:self.n_symptoms] , \"Y:\",  result[t])\n",
    "    return treatments, result"
   ]
  },
  {
   "cell_type": "code",
   "execution_count": 295,
   "id": "d3eaeb78-061c-4a3e-9f2d-ade31ab9026e",
   "metadata": {},
   "outputs": [],
   "source": [
    "p_symptoms1 = np.zeros(8)\n",
    "p_symptoms2 = np.zeros(8)\n",
    "for i in range(8):\n",
    "    p_symptoms1[i] = y1.iloc[:,i+2].mean()\n",
    "    p_symptoms2[i] = y2.iloc[:,i+2].mean()"
   ]
  },
  {
   "cell_type": "code",
   "execution_count": 304,
   "id": "87a9a8a6-3cd7-4b55-a745-27c18c2bbd9f",
   "metadata": {},
   "outputs": [],
   "source": [
    "Y1_new = pd.DataFrame(treatment(X1_improved.iloc[:,2:10],y1_proba)[1], columns = symptom_names[2:10])\n",
    "Y2_new = pd.DataFrame(treatment(X2_improved.iloc[:,2:10],y2_proba)[1], columns = symptom_names[2:10])"
   ]
  },
  {
   "cell_type": "code",
   "execution_count": 305,
   "id": "4f3f3e21-f2ae-4668-95a2-da5c0604fe10",
   "metadata": {},
   "outputs": [],
   "source": [
    "new_action = pd.DataFrame({'Treatment1':optimal_action[:,0],'Treatment2':optimal_action[:,1]})"
   ]
  },
  {
   "cell_type": "code",
   "execution_count": 306,
   "id": "80abf785-5997-4370-8ed5-e66736e8fd53",
   "metadata": {},
   "outputs": [],
   "source": [
    "#doing the same as above for computing the expected utility\n",
    "\n",
    "u1_new = get_utility(None,None,Y1_new)\n",
    "u2_new = get_utility(None,None,Y2_new)\n",
    "\n",
    "y2_new_proba = train_pred(X2_improved.iloc[:,2:10],Y2_new)\n",
    "y1_new_proba = train_pred(X1_improved.iloc[:,2:10],Y1_new)"
   ]
  },
  {
   "cell_type": "code",
   "execution_count": 307,
   "id": "5c428fda-6513-4f77-a376-a16f9d0f8e32",
   "metadata": {},
   "outputs": [],
   "source": [
    "new_expected_utility1 = y1_new_proba.T @ u1_new[2:]\n",
    "new_expected_utility2 = y2_new_proba.T @ u2_new[2:]"
   ]
  },
  {
   "cell_type": "code",
   "execution_count": 310,
   "id": "d39e7279-e4a7-48bd-9cfe-1b66fe64fa87",
   "metadata": {},
   "outputs": [
    {
     "data": {
      "text/plain": [
       "-0.12802193583611057"
      ]
     },
     "execution_count": 310,
     "metadata": {},
     "output_type": "execute_result"
    }
   ],
   "source": [
    "new_expected_utility1/len(X1_improved)"
   ]
  },
  {
   "cell_type": "code",
   "execution_count": 313,
   "id": "9bb8202a-46ea-4acc-932f-0621d62bd9f6",
   "metadata": {},
   "outputs": [
    {
     "data": {
      "text/plain": [
       "-0.14037994680436724"
      ]
     },
     "execution_count": 313,
     "metadata": {},
     "output_type": "execute_result"
    }
   ],
   "source": [
    "new_expected_utility2/len(X2_improved)"
   ]
  }
 ],
 "metadata": {
  "kernelspec": {
   "display_name": "Python 3 (ipykernel)",
   "language": "python",
   "name": "python3"
  },
  "language_info": {
   "codemirror_mode": {
    "name": "ipython",
    "version": 3
   },
   "file_extension": ".py",
   "mimetype": "text/x-python",
   "name": "python",
   "nbconvert_exporter": "python",
   "pygments_lexer": "ipython3",
   "version": "3.9.7"
  }
 },
 "nbformat": 4,
 "nbformat_minor": 5
}
