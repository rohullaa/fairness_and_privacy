{
 "cells": [
  {
   "cell_type": "markdown",
   "id": "46312e2a-45c2-4513-bdba-4bd1be18882e",
   "metadata": {},
   "source": [
    "## Experiment design"
   ]
  },
  {
   "cell_type": "code",
   "execution_count": 1,
   "id": "4b9846b8-d636-4f1a-b62a-94c3b522e406",
   "metadata": {},
   "outputs": [],
   "source": [
    "import sys\n",
    "import pandas as pd\n",
    "import numpy as np\n",
    "import matplotlib.pyplot as plt\n",
    "from sklearn.model_selection import train_test_split\n",
    "from sklearn.neural_network import MLPClassifier\n",
    "from sklearn.preprocessing import StandardScaler\n",
    "from sklearn.metrics import accuracy_score\n",
    "import random\n",
    "random.seed(10)"
   ]
  },
  {
   "cell_type": "code",
   "execution_count": 2,
   "id": "50696805-0afc-467a-b3b9-bc64ada9c0a3",
   "metadata": {},
   "outputs": [],
   "source": [
    "treat_data = pd.read_csv(\"treatment_features.csv\",header=None)\n",
    "action_data = pd.read_csv(\"treatment_actions.csv\",header=None)\n",
    "outcome_data = pd.read_csv(\"treatment_outcomes.csv\",header=None)\n",
    "\n",
    "symptoms_names = ['Covid-Recovered', 'Covid-Positive', 'No-Taste/Smell', 'Fever', 'Headache', \n",
    "                  'Pneumonia', 'Stomach', 'Myocarditis', 'Blood-Clots', 'Death','Age', 'Gender', 'Income']\n",
    "cols = ( symptoms_names +\n",
    "         [f'Gene_{i+1:03}' for i in range(128)] +\n",
    "         ['Asthma', 'Obesity', 'Smoking', 'Diabetes', 'Heart disease', 'Hypertension',\n",
    "         'Vacc_1', 'Vacc_2', 'Vacc_3'])\n",
    "\n",
    "treat_data.columns = cols\n",
    "outcome_data.columns = cols[:10]\n",
    "action_data.columns = ['Treatment_1', 'Treatment_2']"
   ]
  },
  {
   "cell_type": "markdown",
   "id": "df9cf76f-021a-413f-8469-2bb7aac8bff2",
   "metadata": {},
   "source": [
    "Estimaring the $P(y|x,a)$:"
   ]
  },
  {
   "cell_type": "code",
   "execution_count": null,
   "id": "22c33094-ad4d-4aab-a9bc-7d21c742015e",
   "metadata": {},
   "outputs": [],
   "source": [
    "action1 = "
   ]
  }
 ],
 "metadata": {
  "kernelspec": {
   "display_name": "Python 3 (ipykernel)",
   "language": "python",
   "name": "python3"
  },
  "language_info": {
   "codemirror_mode": {
    "name": "ipython",
    "version": 3
   },
   "file_extension": ".py",
   "mimetype": "text/x-python",
   "name": "python",
   "nbconvert_exporter": "python",
   "pygments_lexer": "ipython3",
   "version": "3.9.6"
  }
 },
 "nbformat": 4,
 "nbformat_minor": 5
}
