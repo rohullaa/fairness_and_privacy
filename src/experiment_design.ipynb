{
 "cells": [
  {
   "cell_type": "markdown",
   "id": "46312e2a-45c2-4513-bdba-4bd1be18882e",
   "metadata": {},
   "source": [
    "## Experiment design"
   ]
  },
  {
   "cell_type": "code",
   "execution_count": 1,
   "id": "4b9846b8-d636-4f1a-b62a-94c3b522e406",
   "metadata": {},
   "outputs": [],
   "source": [
    "import sys\n",
    "import pandas as pd\n",
    "import numpy as np\n",
    "import matplotlib.pyplot as plt\n",
    "from sklearn.model_selection import train_test_split\n",
    "from sklearn.neural_network import MLPClassifier\n",
    "from sklearn.preprocessing import StandardScaler\n",
    "from sklearn.metrics import accuracy_score\n",
    "import random\n",
    "np.random.seed(10)\n",
    "import scipy"
   ]
  },
  {
   "cell_type": "code",
   "execution_count": 2,
   "id": "50696805-0afc-467a-b3b9-bc64ada9c0a3",
   "metadata": {},
   "outputs": [],
   "source": [
    "treat_data = pd.read_csv(\"treatment_features.csv\",header=None)\n",
    "action_data = pd.read_csv(\"treatment_actions.csv\",header=None)\n",
    "outcome_data = pd.read_csv(\"treatment_outcomes.csv\",header=None)\n",
    "\n",
    "symptoms_names = ['Covid-Recovered', 'Covid-Positive', 'No-Taste/Smell', 'Fever', 'Headache', \n",
    "                  'Pneumonia', 'Stomach', 'Myocarditis', 'Blood-Clots', 'Death','Age', 'Gender', 'Income']\n",
    "cols = ( symptoms_names +\n",
    "         [f'Gene_{i+1:03}' for i in range(128)] +\n",
    "         ['Asthma', 'Obesity', 'Smoking', 'Diabetes', 'Heart disease', 'Hypertension',\n",
    "         'Vacc_1', 'Vacc_2', 'Vacc_3'])\n",
    "\n",
    "treat_data.columns = cols\n",
    "outcome_data.columns = cols[:10]\n",
    "action_data.columns = ['Treatment_1', 'Treatment_2']"
   ]
  },
  {
   "cell_type": "markdown",
   "id": "df9cf76f-021a-413f-8469-2bb7aac8bff2",
   "metadata": {},
   "source": [
    "## Estimaring the $P(y|x,a)$:"
   ]
  },
  {
   "cell_type": "code",
   "execution_count": 3,
   "id": "cfeef3cf-e2d3-445c-ab44-52fe100b6580",
   "metadata": {},
   "outputs": [],
   "source": [
    "X = treat_data\n",
    "Y = outcome_data\n",
    "a = action_data "
   ]
  },
  {
   "cell_type": "code",
   "execution_count": 4,
   "id": "22c33094-ad4d-4aab-a9bc-7d21c742015e",
   "metadata": {},
   "outputs": [],
   "source": [
    "X1 = pd.DataFrame([X.iloc[i] for i in range(len(a)) if a.iloc[i][0] == 1])\n",
    "X2 = pd.DataFrame([X.iloc[i] for i in range(len(a)) if a.iloc[i][1] == 1])\n",
    "\n",
    "y1 = pd.DataFrame([Y.iloc[i] for i in range(len(a)) if a.iloc[i][0] == 1])\n",
    "y2 = pd.DataFrame([Y.iloc[i] for i in range(len(a)) if a.iloc[i][1] == 1])"
   ]
  },
  {
   "cell_type": "code",
   "execution_count": 5,
   "id": "2828915d-f160-4b62-a653-33526748792b",
   "metadata": {},
   "outputs": [],
   "source": [
    "def train_pred(X,y):\n",
    "    X_tr,X_ts,Y_tr,Y_ts = train_test_split(X,y,test_size=0.33,random_state=1)\n",
    "    \n",
    "    scaler = StandardScaler().fit(X_tr)\n",
    "    X_tr = scaler.transform(X_tr)\n",
    "    scaler.fit(X_ts)\n",
    "    X_ts = scaler.transform(X_ts)\n",
    "\n",
    "    #training\n",
    "    mlp = MLPClassifier(activation='logistic', max_iter=10_000)\n",
    "    mlp.fit(X_tr,Y_tr)\n",
    "\n",
    "    #predicitng\n",
    "    \n",
    "    return np.mean(mlp.predict_proba(X_ts),axis=0)"
   ]
  },
  {
   "cell_type": "markdown",
   "id": "9308f1ea-d685-44a2-9f16-d49b68cb2ee5",
   "metadata": {},
   "source": [
    "## Utility"
   ]
  },
  {
   "cell_type": "code",
   "execution_count": null,
   "id": "ccec65ef-6f15-456c-bbd5-7c17f0c0c207",
   "metadata": {},
   "outputs": [],
   "source": [
    "\"\"\"def get_utility(features, action, outcome):\n",
    "    rewards = np.zeros(10)\n",
    "    weights = np.zeros(10)\n",
    "    np.random.seed(10)\n",
    "    action_cost = np.random.uniform(0,1, size = action.shape[0])\n",
    "    \n",
    "    if len(action_cost) ==3:\n",
    "        action_cost[2] = 0;\n",
    "    \n",
    "if len(action.shape)==1:\n",
    "        action_cost = np.random.uniform(0,1)\n",
    "    else:\n",
    "        action_cost = np.zeros(action.shape[1])\n",
    "        for i in range(len(action_cost)):\n",
    "            action_cost[i] = np.random.uniform(0,1)\"\n",
    "\n",
    "    if 0 < features['Age'] <= 30: #young\n",
    "        weights = np.array([0,0,0.1,0.1,0.1,0.5,0.2,0.5,1.0,100])\n",
    "    elif 30 < features['Age'] <= 60: #middel age\n",
    "        weights = np.array([0,0,0.2,0.2,0.2,0.7,0.4,0.7,2.0,90])\n",
    "    else: #old\n",
    "        weights = np.array([0,0,0.5,0.5,0.5,1.2,0.5,1.0,10.0,70])\n",
    "    rewards -= weights * outcome\n",
    "    \n",
    "    cost = 0\n",
    "    for j in range(action.shape[0]):\n",
    "        if action.iloc[j] == 1:\n",
    "            cost = action_cost[j]\n",
    "\n",
    "        \n",
    "    utility = np.sum(rewards) - cost\n",
    "    \n",
    "    return utility,rewards-cost"
   ]
  },
  {
   "cell_type": "code",
   "execution_count": 6,
   "id": "6b71fdba-74a4-404a-9be9-340529a797bf",
   "metadata": {},
   "outputs": [],
   "source": [
    "def get_utility(features, action, outcome):\n",
    "    np.random.seed(10)\n",
    "    rewards = np.zeros(10)\n",
    "    weights = np.zeros(10)\n",
    "    \n",
    "    if len(features.shape) == len(action.shape) == len(outcome.shape) == 1:\n",
    "        if 0 < features['Age'] <= 30: #young\n",
    "            weights = 10*np.array([0,0,0.1,0.1,0.1,0.5,0.2,0.5,1.0,100])\n",
    "        elif 30 < features['Age'] <= 60: #middel age\n",
    "            weights = 10*np.array([0,0,0.2,0.2,0.2,0.7,0.4,0.7,2.0,90])\n",
    "        else: #old\n",
    "            weights = 10*np.array([0,0,0.5,0.5,0.5,1.2,0.5,1.0,10.0,70])\n",
    "\n",
    "        rewards -= weights*outcome + np.random.uniform()\n",
    "        return rewards\n",
    "\n",
    "    np.random.seed(10)\n",
    "    action_cost = np.random.uniform(0.5,1.5, size = action.shape[1])\n",
    "    \n",
    "    for i in range(features.shape[0]):\n",
    "        if features['Age'].min() < features['Age'].iloc[i] <= 30: #young\n",
    "            weights = 10*np.array([0,0,0.1,0.1,0.1,0.5,0.2,0.5,1.0,100])\n",
    "        elif 30 < features['Age'].iloc[i] <= 60: #middel age\n",
    "            weights = 10*np.array([0,0,0.2,0.2,0.2,0.7,0.4,0.7,2.0,90])\n",
    "        else: #old\n",
    "            weights = 10*np.array([0,0,0.5,0.5,0.5,1.2,0.5,1.0,4.0,70])\n",
    "        \n",
    "        cost = 0\n",
    "        for j in range(action.shape[1]):\n",
    "            if action.iloc[i,j] == 1:\n",
    "                cost += action_cost[j]\n",
    "\n",
    "        rewards -= weights*outcome.iloc[i] + cost\n",
    "    \n",
    "    return rewards"
   ]
  },
  {
   "cell_type": "markdown",
   "id": "bbc5a421-3164-41cd-ae9f-c0c844717a73",
   "metadata": {},
   "source": [
    "The sensitivity of the utility based on the age categories."
   ]
  },
  {
   "cell_type": "markdown",
   "id": "1e1c2d21-0131-4eed-a7a1-be5562e870a2",
   "metadata": {
    "tags": []
   },
   "source": [
    "## The exponential mechanism"
   ]
  },
  {
   "cell_type": "code",
   "execution_count": null,
   "id": "fdbcb5e1-2c60-4085-a0b1-4be5426b2b12",
   "metadata": {},
   "outputs": [],
   "source": [
    "def exponential_mechanism(features,actions,outcome,epsilon,sensitivity,p_proba):\n",
    "    \"\"\"\n",
    "    Given a set of actions and a utility function, this function returns the noisy 'best' action.\n",
    "    Since our utility function at the moment does not depend on actions, only outcome, the results are expected to be random.  \n",
    "    \"\"\"\n",
    "    best_actions = []\n",
    "    predicted_outcome = np.zeros(10)\n",
    "    for i in range(features.shape[0]):\n",
    "        utility = np.zeros(actions.shape[1])\n",
    "        for j,action in enumerate(actions):\n",
    "            if action == 'No_Action':\n",
    "                predicted_outcome = features.iloc[i,:10]\n",
    "            else:\n",
    "                for k in range(10):\n",
    "                    predicted_outcome[k] = np.random.choice(2,p=[1-p_proba[j][k],p_proba[j][k]])\n",
    "\n",
    "            utility[j] = get_utility(features.iloc[i], actions.iloc[j], predicted_outcome)[0] \n",
    "\n",
    "        policy_probs = np.exp(epsilon*utility/2*sensitivity)\n",
    "        #print(policy_probs)\n",
    "        policy_probs = policy_probs/np.linalg.norm(policy_probs, ord=1)\n",
    "        #print(policy_probs)\n",
    "\n",
    "        best_actions.append(np.random.choice(actions.columns, 1, p=policy_probs.ravel())[0])\n",
    "    return best_actions"
   ]
  },
  {
   "cell_type": "code",
   "execution_count": null,
   "id": "a979ac75-de96-4ce4-9766-e62d01b1e6c8",
   "metadata": {},
   "outputs": [],
   "source": [
    "p_proba = [y1_proba,y2_proba,np.mean([y1_proba,y2_proba],axis = 0)]\n",
    "\n",
    "def tune_epsilon(epsilon):\n",
    "    EM_1 = exponential_mechanism(treat_data,pd.DataFrame({'Action1':[1,0,0],'Action2':[0,1,0],'No_Action':[0,0,1]}),outcome_data,epsilon,1/10,p_proba)\n",
    "\n",
    "    s1 = 0\n",
    "    s2 = 0\n",
    "    s3 = 0\n",
    "    for e in EM_1:\n",
    "        if e == 'Action1':\n",
    "            s1 +=1\n",
    "        elif e == 'Action2':\n",
    "            s2 +=1\n",
    "        else:\n",
    "            s3 += 1\n",
    "    print(epsilon)\n",
    "    print(f'action1: {s1}')\n",
    "    print(f'action2: {s2}')\n",
    "    print(f'no_action: {s3}')\n",
    "    print()\n",
    "    \n",
    "tune_epsilon(0.1)\n",
    "tune_epsilon(0.5)\n",
    "tune_epsilon(1)\n",
    "tune_epsilon(10)"
   ]
  },
  {
   "cell_type": "markdown",
   "id": "0a660e0d-1f4b-4432-b71a-d5b70651947a",
   "metadata": {},
   "source": [
    "## Estimating:\n",
    "$$\\sum P(y|x,a) \\; u(a,y)$$"
   ]
  },
  {
   "cell_type": "code",
   "execution_count": 7,
   "id": "76571f87-7977-4b1a-a915-abb9548d5d16",
   "metadata": {},
   "outputs": [],
   "source": [
    "def compute_utility(X,action_data,y):\n",
    "    u = 0\n",
    "    for i in range (X.shape[0]):\n",
    "        u += get_utility(X.iloc[i],action_data.iloc[i],y.iloc[i])[1]\n",
    "        \n",
    "    return u"
   ]
  },
  {
   "cell_type": "code",
   "execution_count": 68,
   "id": "897d5014-fbb5-4c17-990e-dac595d2615f",
   "metadata": {},
   "outputs": [],
   "source": [
    "u1 = get_utility(X1,a1,y1)\n",
    "u2 = get_utility(X2,a2,y2)"
   ]
  },
  {
   "cell_type": "code",
   "execution_count": 69,
   "id": "3d57a7ef-bf96-496a-80d0-176e62ffaf43",
   "metadata": {},
   "outputs": [],
   "source": [
    "y2_proba = train_pred(X2,y2)\n",
    "y1_proba = train_pred(X1,y1)"
   ]
  },
  {
   "cell_type": "code",
   "execution_count": 70,
   "id": "6910dc50-43da-451c-a181-fcab49a63dee",
   "metadata": {},
   "outputs": [],
   "source": [
    "expected_utility1_vec = np.array([u*y for u,y in zip(u1,y1_proba)])\n",
    "expected_utility2_vec = np.array([u*y for u,y in zip(u2,y2_proba)])"
   ]
  },
  {
   "cell_type": "code",
   "execution_count": 71,
   "id": "f6b79ddb-9cbd-4317-9bef-353eab772ec8",
   "metadata": {},
   "outputs": [
    {
     "data": {
      "text/plain": [
       "-1.5033997300266524"
      ]
     },
     "execution_count": 71,
     "metadata": {},
     "output_type": "execute_result"
    }
   ],
   "source": [
    "expected_utility1 = y1_proba.T @ u1 / X1.shape[0]\n",
    "expected_utility1"
   ]
  },
  {
   "cell_type": "code",
   "execution_count": 72,
   "id": "6fc19594-7026-44ec-a830-13dbfd120de2",
   "metadata": {},
   "outputs": [
    {
     "data": {
      "text/plain": [
       "-2.090214101087607"
      ]
     },
     "execution_count": 72,
     "metadata": {},
     "output_type": "execute_result"
    }
   ],
   "source": [
    "expected_utility2 = y2_proba.T @ u2 / X2.shape[0]\n",
    "expected_utility2"
   ]
  },
  {
   "cell_type": "markdown",
   "id": "579d8349-6081-49c2-90a8-8f861947fcf4",
   "metadata": {},
   "source": [
    "### Defining the utility"
   ]
  },
  {
   "cell_type": "code",
   "execution_count": 13,
   "id": "9e2d96f4-d7d4-43fb-b569-2219f3c75830",
   "metadata": {},
   "outputs": [],
   "source": [
    "#finding optimal action for given symptoms for each individual. Optimal policy\n",
    "\n",
    "def get_action():\n",
    "    optimal_action = np.zeros([X.shape[0],2])\n",
    "    for i in range(X.shape[0]):\n",
    "        index = np.argwhere(np.array(X.iloc[i,2:10]) == np.ones(8)).flatten().tolist()\n",
    "\n",
    "        if len(index) > 0:\n",
    "            if np.sum(expected_utility1_vec[index]) >= np.sum(expected_utility2_vec[index]):\n",
    "                optimal_action[i,0] = 1\n",
    "            else:\n",
    "                optimal_action[i,1] = 1\n",
    "                \n",
    "    return optimal_action"
   ]
  },
  {
   "cell_type": "markdown",
   "id": "6fe7876b-35d0-49bf-9c19-0637175b9960",
   "metadata": {
    "tags": []
   },
   "source": [
    "## Bootstrap the data for:\n",
    "Provide error bounds on the expected utility and explain how those were obtained."
   ]
  },
  {
   "cell_type": "markdown",
   "id": "94e7218e-98ee-4315-9595-1f5b8d444b9f",
   "metadata": {
    "tags": []
   },
   "source": [
    "## Expected utility for improved policy"
   ]
  },
  {
   "cell_type": "code",
   "execution_count": 14,
   "id": "3b165be2-738c-4cf5-bb8e-892b045ccd7c",
   "metadata": {},
   "outputs": [],
   "source": [
    "optimal_action = get_action()"
   ]
  },
  {
   "cell_type": "code",
   "execution_count": 15,
   "id": "c541b607-ca97-47a5-8a06-05ce0c7e739a",
   "metadata": {},
   "outputs": [],
   "source": [
    "X1_improved = pd.DataFrame([X.iloc[i] for i in range(len(optimal_action)) if optimal_action[i][0] == 1])\n",
    "X2_improved = pd.DataFrame([X.iloc[i] for i in range(len(optimal_action)) if optimal_action[i][1] == 1])"
   ]
  },
  {
   "cell_type": "code",
   "execution_count": 16,
   "id": "bc02a213-be3f-41d4-8f4e-da82fd67de39",
   "metadata": {},
   "outputs": [],
   "source": [
    "#taken from \"simulator.py\" file\n",
    "\n",
    "def treatment(X,p):\n",
    "    A = np.random.uniform(size=[2,10])\n",
    "    treatments = np.zeros([X.shape[0], 2])\n",
    "    result = np.zeros([X.shape[0], 10])\n",
    "    for t in range(X.shape[0]):\n",
    "        treatments[t] = optimal_action[t]\n",
    "        r = np.array(np.matrix(treatments[t]) * A).flatten()\n",
    "        for k in range(10):\n",
    "            result[t,k] = np.random.choice(2,p=[1-p[k],p[k]])\n",
    "        ##print(\"X:\", X[t,:self.n_symptoms] , \"Y:\",  result[t])\n",
    "    return treatments, result"
   ]
  },
  {
   "cell_type": "code",
   "execution_count": 17,
   "id": "d3eaeb78-061c-4a3e-9f2d-ade31ab9026e",
   "metadata": {},
   "outputs": [],
   "source": [
    "p_symptoms1 = np.zeros(8)\n",
    "p_symptoms2 = np.zeros(8)\n",
    "for i in range(8):\n",
    "    p_symptoms1[i] = y1.iloc[:,i+2].mean()\n",
    "    p_symptoms2[i] = y2.iloc[:,i+2].mean()"
   ]
  },
  {
   "cell_type": "code",
   "execution_count": 18,
   "id": "87a9a8a6-3cd7-4b55-a745-27c18c2bbd9f",
   "metadata": {},
   "outputs": [],
   "source": [
    "Y1_new = pd.DataFrame(treatment(X1_improved.iloc[:,0:10],y1_proba)[1], columns = symptoms_names[:10])\n",
    "Y2_new = pd.DataFrame(treatment(X2_improved.iloc[:,0:10],y2_proba)[1], columns = symptoms_names[:10])"
   ]
  },
  {
   "cell_type": "code",
   "execution_count": 19,
   "id": "4f3f3e21-f2ae-4668-95a2-da5c0604fe10",
   "metadata": {},
   "outputs": [],
   "source": [
    "new_action = pd.DataFrame({'Treatment1':optimal_action[:,0],'Treatment2':optimal_action[:,1]})"
   ]
  },
  {
   "cell_type": "code",
   "execution_count": 74,
   "id": "833920b5-a3a4-4cca-a4e6-e88dd1b6bd61",
   "metadata": {},
   "outputs": [],
   "source": [
    "new_actions = pd.DataFrame(optimal_action)\n",
    "#dividing the optimal action\n",
    "new_a1 = new_actions[new_actions.iloc[:,0] == 1]\n",
    "new_a2 = new_actions[new_actions.iloc[:,1] == 1]\n",
    "\n",
    "#doing the same as above for computing the expected utility\n",
    "u1_new = get_utility(X1_improved,new_a1,Y1_new)\n",
    "u2_new = get_utility(X2_improved,new_a2,Y2_new)"
   ]
  },
  {
   "cell_type": "code",
   "execution_count": 75,
   "id": "80abf785-5997-4370-8ed5-e66736e8fd53",
   "metadata": {},
   "outputs": [],
   "source": [
    "y2_new_proba = train_pred(X2_improved.iloc[:,2:10],Y2_new)\n",
    "y1_new_proba = train_pred(X1_improved.iloc[:,2:10],Y1_new)"
   ]
  },
  {
   "cell_type": "code",
   "execution_count": 76,
   "id": "3b7476b6-887c-4c0c-af2a-2cd5673fc14b",
   "metadata": {},
   "outputs": [
    {
     "data": {
      "text/plain": [
       "array([1.04298909e-01, 9.99686346e-01, 3.85669709e-02, 5.42047727e-03,\n",
       "       3.48188992e-04, 4.29136524e-03, 1.16493148e-03, 1.65897963e-02,\n",
       "       2.15166998e-03, 1.13826100e-03])"
      ]
     },
     "execution_count": 76,
     "metadata": {},
     "output_type": "execute_result"
    }
   ],
   "source": [
    "y1_new_proba"
   ]
  },
  {
   "cell_type": "code",
   "execution_count": 77,
   "id": "5c428fda-6513-4f77-a376-a16f9d0f8e32",
   "metadata": {},
   "outputs": [],
   "source": [
    "new_expected_utility1 = y1_new_proba.T @ u1_new\n",
    "new_expected_utility2 = y2_new_proba.T @ u2_new"
   ]
  },
  {
   "cell_type": "code",
   "execution_count": 82,
   "id": "d39e7279-e4a7-48bd-9cfe-1b66fe64fa87",
   "metadata": {},
   "outputs": [
    {
     "data": {
      "text/plain": [
       "-1.4982385733781118"
      ]
     },
     "execution_count": 82,
     "metadata": {},
     "output_type": "execute_result"
    }
   ],
   "source": [
    "new_expected_utility1/X1_improved.shape[0]"
   ]
  },
  {
   "cell_type": "code",
   "execution_count": 83,
   "id": "9bb8202a-46ea-4acc-932f-0621d62bd9f6",
   "metadata": {},
   "outputs": [
    {
     "data": {
      "text/plain": [
       "-1.6635119412220094"
      ]
     },
     "execution_count": 83,
     "metadata": {},
     "output_type": "execute_result"
    }
   ],
   "source": [
    "new_expected_utility2/X2_improved.shape[0]"
   ]
  },
  {
   "cell_type": "code",
   "execution_count": 80,
   "id": "9e247a00-049b-4522-a1c3-96495abd3057",
   "metadata": {},
   "outputs": [
    {
     "data": {
      "text/plain": [
       "-4216.043345486007"
      ]
     },
     "execution_count": 80,
     "metadata": {},
     "output_type": "execute_result"
    }
   ],
   "source": [
    "new_expected_utility1"
   ]
  },
  {
   "cell_type": "code",
   "execution_count": 81,
   "id": "29a6b242-e9f6-4d91-ad11-f6aaf12877a1",
   "metadata": {},
   "outputs": [
    {
     "data": {
      "text/plain": [
       "-763.5519810209023"
      ]
     },
     "execution_count": 81,
     "metadata": {},
     "output_type": "execute_result"
    }
   ],
   "source": [
    "new_expected_utility2"
   ]
  },
  {
   "cell_type": "markdown",
   "id": "1ddedbd4-586f-435f-8f96-8240a55043a1",
   "metadata": {},
   "source": [
    "## Plotting the new data vs old data"
   ]
  },
  {
   "cell_type": "code",
   "execution_count": 28,
   "id": "d1936602-608e-484f-a468-e0c4f731e366",
   "metadata": {},
   "outputs": [],
   "source": [
    "def make_hist(X,X_improved,action_nr):\n",
    "    plt.hist(X['Age'],bins=50,color = \"skyblue\",label='Historical data',alpha=0.7)\n",
    "    plt.hist(X_improved['Age'],bins=50,label='Improved policy',alpha=0.7)\n",
    "    plt.ylabel('Frequencies')\n",
    "    plt.xlabel('Age')\n",
    "    plt.title(f'Distribution for Action {action_nr}')\n",
    "    plt.legend()\n",
    "    plt.savefig(f'/Users/roaka001/Documents/OneDrive/IN-STK5000/fairness_and_privacy/figs_policy/action_{action_nr}')"
   ]
  },
  {
   "cell_type": "code",
   "execution_count": 29,
   "id": "99bff3ce-23b0-47c3-aaff-4a83c3205a76",
   "metadata": {},
   "outputs": [
    {
     "data": {
      "image/png": "[encoded data removed]",
      "text/plain": [
       "<Figure size 432x288 with 1 Axes>"
      ]
     },
     "metadata": {
      "needs_background": "light"
     },
     "output_type": "display_data"
    }
   ],
   "source": [
    "make_hist(X1,X1_improved,1)"
   ]
  },
  {
   "cell_type": "code",
   "execution_count": 30,
   "id": "fbe37cc6-f3d3-4d23-a672-a2d8e32f1330",
   "metadata": {},
   "outputs": [
    {
     "data": {
      "image/png": "[encoded data removed]",
      "text/plain": [
       "<Figure size 432x288 with 1 Axes>"
      ]
     },
     "metadata": {
      "needs_background": "light"
     },
     "output_type": "display_data"
    }
   ],
   "source": [
    "make_hist(X2,X2_improved,2)"
   ]
  },
  {
   "cell_type": "markdown",
   "id": "2dee7342-700d-4028-a2ed-5cae017dc45c",
   "metadata": {},
   "source": [
    "# Error bounds: confidens intervall"
   ]
  },
  {
   "cell_type": "code",
   "execution_count": 60,
   "id": "749e286c-9e95-4253-b0a2-45e3301a7a84",
   "metadata": {},
   "outputs": [],
   "source": [
    "def confidence_interval(features, actions, outcome):\n",
    "    n = features.shape[0]\n",
    "\n",
    "    u = get_utility(features, actions, outcome)\n",
    "    eu =  u.T @ train_pred(features,outcome)/n\n",
    "    m = np.sum(u)/(outcome.shape[1]*n)\n",
    "    \n",
    "    s2 = 0\n",
    "    for i in range(n):\n",
    "        s2 += (np.sum(get_utility(features.iloc[i], actions.iloc[i], outcome.iloc[i]))/outcome.shape[1] - m)**2\n",
    "    s2 = s2/(n-1)\n",
    "    s = np.sqrt(s2)\n",
    "\n",
    "    t = scipy.stats.t(n-1)\n",
    "    percentile95 = t.interval(0.975)[0]\n",
    "    ci = (eu - percentile95*(s/np.sqrt(n)), eu + percentile95*(s/np.sqrt(n)))\n",
    "\n",
    "    return ci"
   ]
  },
  {
   "cell_type": "code",
   "execution_count": 61,
   "id": "d8a64ae0-948c-4429-8be9-b9f6c5dd9ceb",
   "metadata": {},
   "outputs": [],
   "source": [
    "a1 = action_data[action_data.iloc[:,0] == 1]\n",
    "a2 = action_data[action_data.iloc[:,1] == 1]"
   ]
  },
  {
   "cell_type": "code",
   "execution_count": 62,
   "id": "586827d9-738f-4805-a93c-dc9613ede713",
   "metadata": {},
   "outputs": [
    {
     "data": {
      "text/plain": [
       "(-1.2790708252994114, -1.7272383432280067)"
      ]
     },
     "execution_count": 62,
     "metadata": {},
     "output_type": "execute_result"
    }
   ],
   "source": [
    "confidence_interval(X1,a1,y1)"
   ]
  },
  {
   "cell_type": "code",
   "execution_count": 63,
   "id": "fdff142c-23f2-4ce8-b0f4-8df6f496c5e6",
   "metadata": {},
   "outputs": [
    {
     "data": {
      "text/plain": [
       "(-1.5390055863581198, -2.6414226158170946)"
      ]
     },
     "execution_count": 63,
     "metadata": {},
     "output_type": "execute_result"
    }
   ],
   "source": [
    "confidence_interval(X2,a2,y2)"
   ]
  },
  {
   "cell_type": "code",
   "execution_count": 86,
   "id": "9fc1e7d9-5e2e-4602-9660-80ccc5645394",
   "metadata": {},
   "outputs": [
    {
     "data": {
      "text/plain": [
       "(-1.2425517737387357, -1.5219074725668047)"
      ]
     },
     "execution_count": 86,
     "metadata": {},
     "output_type": "execute_result"
    }
   ],
   "source": [
    "confidence_interval(X1_improved,new_a1,Y1_new)"
   ]
  },
  {
   "cell_type": "code",
   "execution_count": 84,
   "id": "615ba931-8c31-4577-b83f-38be6ee4ae08",
   "metadata": {},
   "outputs": [
    {
     "data": {
      "text/plain": [
       "(0.4553587127584242, -2.9555947121045985)"
      ]
     },
     "execution_count": 84,
     "metadata": {},
     "output_type": "execute_result"
    }
   ],
   "source": [
    "confidence_interval(X2_improved,new_a2,Y2_new)"
   ]
  }
 ],
 "metadata": {
  "kernelspec": {
   "display_name": "Python 3 (ipykernel)",
   "language": "python",
   "name": "python3"
  },
  "language_info": {
   "codemirror_mode": {
    "name": "ipython",
    "version": 3
   },
   "file_extension": ".py",
   "mimetype": "text/x-python",
   "name": "python",
   "nbconvert_exporter": "python",
   "pygments_lexer": "ipython3",
   "version": "3.9.7"
  }
 },
 "nbformat": 4,
 "nbformat_minor": 5
}
