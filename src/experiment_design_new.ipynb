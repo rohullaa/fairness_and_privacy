{
 "cells": [
  {
   "cell_type": "markdown",
   "id": "46312e2a-45c2-4513-bdba-4bd1be18882e",
   "metadata": {},
   "source": [
    "## Experiment design"
   ]
  },
  {
   "cell_type": "code",
   "execution_count": 1,
   "id": "4b9846b8-d636-4f1a-b62a-94c3b522e406",
   "metadata": {},
   "outputs": [
    {
     "name": "stderr",
     "output_type": "stream",
     "text": [
      "Intel(R) Extension for Scikit-learn* enabled (https://github.com/intel/scikit-learn-intelex)\n"
     ]
    }
   ],
   "source": [
    "import sys\n",
    "import pandas as pd\n",
    "import numpy as np\n",
    "import matplotlib.pyplot as plt\n",
    "import logging\n",
    "\n",
    "logging.basicConfig(format='%(asctime)s : %(levelname)s : %(message)s', level=logging.INFO)\n",
    "\n",
    "from sklearn.model_selection import train_test_split\n",
    "from sklearn.neural_network import MLPClassifier\n",
    "from sklearn.metrics import accuracy_score\n",
    "\n",
    "from policy import NewPolicy, RandomPolicy\n",
    "import simulator\n"
   ]
  },
  {
   "cell_type": "code",
   "execution_count": 49,
   "id": "bea8758c",
   "metadata": {},
   "outputs": [],
   "source": [
    "# For changes in policy.py and simulator.py to be automatically reloaded without restarting the kernel\n",
    "%load_ext autoreload\n",
    "%autoreload 1\n",
    "%aimport policy, simulator"
   ]
  },
  {
   "cell_type": "code",
   "execution_count": 3,
   "id": "50696805-0afc-467a-b3b9-bc64ada9c0a3",
   "metadata": {},
   "outputs": [],
   "source": [
    "treat_data = pd.read_csv(\"treatment_features.csv\",header=None)\n",
    "action_data = pd.read_csv(\"treatment_actions.csv\",header=None)\n",
    "outcome_data = pd.read_csv(\"treatment_outcomes.csv\",header=None)\n",
    "\n",
    "symptom_names = ['Covid-Recovered', 'Covid-Positive', 'No-Taste/Smell', 'Fever', 'Headache', \n",
    "                  'Pneumonia', 'Stomach', 'Myocarditis', 'Blood-Clots', 'Death','Age', 'Gender', 'Income']\n",
    "cols = ( symptom_names +\n",
    "         [f'Gene_{i+1:03}' for i in range(128)] +\n",
    "         ['Asthma', 'Obesity', 'Smoking', 'Diabetes', 'Heart disease', 'Hypertension',\n",
    "         'Vacc_1', 'Vacc_2', 'Vacc_3'])\n",
    "\n",
    "treat_data.columns = cols\n",
    "outcome_data.columns = cols[:10]\n",
    "action_data.columns = ['Treatment_1', 'Treatment_2']"
   ]
  },
  {
   "cell_type": "markdown",
   "id": "df9cf76f-021a-413f-8469-2bb7aac8bff2",
   "metadata": {},
   "source": [
    "## Estimaring the $P(y|x,a)$:"
   ]
  },
  {
   "cell_type": "code",
   "execution_count": 5,
   "id": "cfeef3cf-e2d3-445c-ab44-52fe100b6580",
   "metadata": {},
   "outputs": [
    {
     "name": "stderr",
     "output_type": "stream",
     "text": [
      "2021-12-02 17:36:25,124 : INFO : sklearn.model_selection.train_test_split: running accelerated version on CPU\n",
      "2021-12-02 17:36:25,993 : INFO : sklearn.model_selection.train_test_split: running accelerated version on CPU\n"
     ]
    }
   ],
   "source": [
    "X = treat_data\n",
    "y=Y = outcome_data\n",
    "a = action_data \n",
    "\n",
    "X_tr,X_ts,Y_tr,Y_ts = train_test_split(X,Y,test_size=0.33,random_state=1)\n",
    "X_tr.columns = X.columns\n",
    "X_ts.columns = X.columns\n",
    "Y_tr.columns = Y.columns\n",
    "Y_ts.columns = Y.columns\n"
   ]
  },
  {
   "cell_type": "code",
   "execution_count": 9,
   "id": "c8e40759",
   "metadata": {},
   "outputs": [],
   "source": [
    "class MLPModel(MLPClassifier):\n",
    "    def __init__(self, **kwargs):\n",
    "        super().__init__(**kwargs)\n",
    "        \n",
    "    def get_probabilities(self, features, action):\n",
    "        features = features.assign(**{str(action):np.ones(features.shape[0])})\n",
    "\n",
    "        return self.predict_proba(features)"
   ]
  },
  {
   "cell_type": "code",
   "execution_count": 10,
   "id": "218755df",
   "metadata": {},
   "outputs": [
    {
     "name": "stdout",
     "output_type": "stream",
     "text": [
      "Initialising policy with  2 actions\n",
      "A = { ['Treatment_1', 'Treatment_2'] }\n"
     ]
    }
   ],
   "source": [
    "pol = NewPolicy(2, ['Treatment_1', 'Treatment_2'], \n",
    "                MLPModel(activation='logistic', random_state=0))"
   ]
  },
  {
   "cell_type": "code",
   "execution_count": 11,
   "id": "4ad2fb1e",
   "metadata": {},
   "outputs": [],
   "source": [
    "pol.observe(X, a, Y)"
   ]
  },
  {
   "cell_type": "code",
   "execution_count": 28,
   "id": "22c33094-ad4d-4aab-a9bc-7d21c742015e",
   "metadata": {},
   "outputs": [],
   "source": [
    "X1 = X[a['Treatment_1'] == 1]\n",
    "X2 = X[a['Treatment_2'] == 1]\n",
    "\n",
    "#y1 = pd.DataFrame([Y.iloc[i] for i in range(len(a)) if a.iloc[i][0] == 1])\n",
    "#y2 = pd.DataFrame([Y.iloc[i] for i in range(len(a)) if a.iloc[i][1] == 1])\n",
    "\n",
    "y1 = y[a['Treatment_1'] == 1]\n",
    "y2 = y[a['Treatment_2'] == 1]"
   ]
  },
  {
   "cell_type": "markdown",
   "id": "9308f1ea-d685-44a2-9f16-d49b68cb2ee5",
   "metadata": {},
   "source": [
    "## Utility"
   ]
  },
  {
   "cell_type": "code",
   "execution_count": 19,
   "id": "ccec65ef-6f15-456c-bbd5-7c17f0c0c207",
   "metadata": {},
   "outputs": [],
   "source": [
    "def get_utility(features, action, outcome):\n",
    "    \"\"\"Here the utiliy is defined in terms of the outcomes obtained only, ignoring both the treatment and the previous condition.\n",
    "    \"\"\"\n",
    "    \"\"\"for i, symptom in enumerate(symptom_names):\n",
    "    utility[I] = weights[symptom] * outcome[symptom] \"\"\"\n",
    "    \n",
    "    utility = np.zeros(10)\n",
    "\n",
    "    utility[0] -= 0\n",
    "    utility[1] -= 0\n",
    "    utility[2]  -= 0.1 * sum(outcome['No-Taste/Smell'])\n",
    "    utility[3]  -= 0.1 * sum(outcome['Fever'])\n",
    "    utility[4]  -= 0.1 * sum(outcome['Headache'])\n",
    "    utility[5]  -= 0.5 * sum(outcome['Pneumonia'])\n",
    "    utility[6]  -= 0.2 * sum(outcome['Stomach'])\n",
    "    utility[7]  -= 0.5 * sum(outcome['Myocarditis'])\n",
    "    utility[8]  -= 1.0 * sum(outcome['Blood-Clots'])\n",
    "    utility[9]  -= 100.0 * sum(outcome['Death'])\n",
    "    \n",
    "    return utility"
   ]
  },
  {
   "cell_type": "markdown",
   "id": "0a660e0d-1f4b-4432-b71a-d5b70651947a",
   "metadata": {},
   "source": [
    "## Estimating:\n",
    "$$\\sum P(y|x,a) \\; u(a,y)$$"
   ]
  },
  {
   "cell_type": "code",
   "execution_count": 20,
   "id": "76571f87-7977-4b1a-a915-abb9548d5d16",
   "metadata": {},
   "outputs": [],
   "source": [
    "u1 = get_utility(None,None,y1)\n",
    "u2 = get_utility(None,None,y2)"
   ]
  },
  {
   "cell_type": "code",
   "execution_count": 21,
   "id": "3d57a7ef-bf96-496a-80d0-176e62ffaf43",
   "metadata": {},
   "outputs": [
    {
     "ename": "NameError",
     "evalue": "name 'train_pred' is not defined",
     "output_type": "error",
     "traceback": [
      "\u001b[1;31m---------------------------------------------------------------------------\u001b[0m",
      "\u001b[1;31mNameError\u001b[0m                                 Traceback (most recent call last)",
      "\u001b[1;32m~\\AppData\\Local\\Temp/ipykernel_18588/3143097795.py\u001b[0m in \u001b[0;36m<module>\u001b[1;34m\u001b[0m\n\u001b[1;32m----> 1\u001b[1;33m \u001b[0my2_proba\u001b[0m \u001b[1;33m=\u001b[0m \u001b[0mtrain_pred\u001b[0m\u001b[1;33m(\u001b[0m\u001b[0mX2\u001b[0m\u001b[1;33m,\u001b[0m\u001b[0my2\u001b[0m\u001b[1;33m)\u001b[0m\u001b[1;33m\u001b[0m\u001b[1;33m\u001b[0m\u001b[0m\n\u001b[0m\u001b[0;32m      2\u001b[0m \u001b[0my1_proba\u001b[0m \u001b[1;33m=\u001b[0m \u001b[0mtrain_pred\u001b[0m\u001b[1;33m(\u001b[0m\u001b[0mX1\u001b[0m\u001b[1;33m,\u001b[0m\u001b[0my1\u001b[0m\u001b[1;33m)\u001b[0m\u001b[1;33m\u001b[0m\u001b[1;33m\u001b[0m\u001b[0m\n",
      "\u001b[1;31mNameError\u001b[0m: name 'train_pred' is not defined"
     ]
    }
   ],
   "source": [
    "y2_proba = train_pred(X2,y2)\n",
    "y1_proba = train_pred(X1,y1)"
   ]
  },
  {
   "cell_type": "code",
   "execution_count": null,
   "id": "6910dc50-43da-451c-a181-fcab49a63dee",
   "metadata": {},
   "outputs": [],
   "source": [
    "expected_utility1 = np.array([u*y for u,y in zip(u1,y1_proba)])\n",
    "expected_utility2 = np.array([u*y for u,y in zip(u2,y2_proba)])"
   ]
  },
  {
   "cell_type": "code",
   "execution_count": 22,
   "id": "f6b79ddb-9cbd-4317-9bef-353eab772ec8",
   "metadata": {},
   "outputs": [
    {
     "ename": "NameError",
     "evalue": "name 'y1_proba' is not defined",
     "output_type": "error",
     "traceback": [
      "\u001b[1;31m---------------------------------------------------------------------------\u001b[0m",
      "\u001b[1;31mNameError\u001b[0m                                 Traceback (most recent call last)",
      "\u001b[1;32m~\\AppData\\Local\\Temp/ipykernel_18588/4047603559.py\u001b[0m in \u001b[0;36m<module>\u001b[1;34m\u001b[0m\n\u001b[1;32m----> 1\u001b[1;33m \u001b[0my1_proba\u001b[0m\u001b[1;33m.\u001b[0m\u001b[0mT\u001b[0m \u001b[1;33m@\u001b[0m \u001b[0mu1\u001b[0m\u001b[1;33m\u001b[0m\u001b[1;33m\u001b[0m\u001b[0m\n\u001b[0m",
      "\u001b[1;31mNameError\u001b[0m: name 'y1_proba' is not defined"
     ]
    }
   ],
   "source": [
    "y1_proba.T @ u1"
   ]
  },
  {
   "cell_type": "code",
   "execution_count": 23,
   "id": "6fc19594-7026-44ec-a830-13dbfd120de2",
   "metadata": {},
   "outputs": [
    {
     "ename": "NameError",
     "evalue": "name 'y2_proba' is not defined",
     "output_type": "error",
     "traceback": [
      "\u001b[1;31m---------------------------------------------------------------------------\u001b[0m",
      "\u001b[1;31mNameError\u001b[0m                                 Traceback (most recent call last)",
      "\u001b[1;32m~\\AppData\\Local\\Temp/ipykernel_18588/3599945271.py\u001b[0m in \u001b[0;36m<module>\u001b[1;34m\u001b[0m\n\u001b[1;32m----> 1\u001b[1;33m \u001b[0my2_proba\u001b[0m\u001b[1;33m.\u001b[0m\u001b[0mT\u001b[0m \u001b[1;33m@\u001b[0m \u001b[0mu2\u001b[0m\u001b[1;33m\u001b[0m\u001b[1;33m\u001b[0m\u001b[0m\n\u001b[0m",
      "\u001b[1;31mNameError\u001b[0m: name 'y2_proba' is not defined"
     ]
    }
   ],
   "source": [
    "y2_proba.T @ u2"
   ]
  },
  {
   "cell_type": "code",
   "execution_count": 24,
   "id": "611051b4-11b2-4298-aed1-7b7af68e7e48",
   "metadata": {},
   "outputs": [
    {
     "ename": "NameError",
     "evalue": "name 'expected_utility1' is not defined",
     "output_type": "error",
     "traceback": [
      "\u001b[1;31m---------------------------------------------------------------------------\u001b[0m",
      "\u001b[1;31mNameError\u001b[0m                                 Traceback (most recent call last)",
      "\u001b[1;32m~\\AppData\\Local\\Temp/ipykernel_18588/4067888684.py\u001b[0m in \u001b[0;36m<module>\u001b[1;34m\u001b[0m\n\u001b[1;32m----> 1\u001b[1;33m \u001b[0msum\u001b[0m\u001b[1;33m(\u001b[0m\u001b[0mexpected_utility1\u001b[0m\u001b[1;33m)\u001b[0m\u001b[1;33m/\u001b[0m\u001b[0mlen\u001b[0m\u001b[1;33m(\u001b[0m\u001b[0mX1\u001b[0m\u001b[1;33m)\u001b[0m\u001b[1;33m\u001b[0m\u001b[1;33m\u001b[0m\u001b[0m\n\u001b[0m",
      "\u001b[1;31mNameError\u001b[0m: name 'expected_utility1' is not defined"
     ]
    }
   ],
   "source": [
    "sum(expected_utility1)/len(X1)"
   ]
  },
  {
   "cell_type": "code",
   "execution_count": 25,
   "id": "19b0405a-190f-4d30-b901-4ee9dbc0856f",
   "metadata": {},
   "outputs": [
    {
     "ename": "NameError",
     "evalue": "name 'expected_utility2' is not defined",
     "output_type": "error",
     "traceback": [
      "\u001b[1;31m---------------------------------------------------------------------------\u001b[0m",
      "\u001b[1;31mNameError\u001b[0m                                 Traceback (most recent call last)",
      "\u001b[1;32m~\\AppData\\Local\\Temp/ipykernel_18588/2673374608.py\u001b[0m in \u001b[0;36m<module>\u001b[1;34m\u001b[0m\n\u001b[1;32m----> 1\u001b[1;33m \u001b[0msum\u001b[0m\u001b[1;33m(\u001b[0m\u001b[0mexpected_utility2\u001b[0m\u001b[1;33m)\u001b[0m\u001b[1;33m/\u001b[0m\u001b[0mlen\u001b[0m\u001b[1;33m(\u001b[0m\u001b[0mX2\u001b[0m\u001b[1;33m)\u001b[0m\u001b[1;33m\u001b[0m\u001b[1;33m\u001b[0m\u001b[0m\n\u001b[0m",
      "\u001b[1;31mNameError\u001b[0m: name 'expected_utility2' is not defined"
     ]
    }
   ],
   "source": [
    "sum(expected_utility2)/len(X2)"
   ]
  },
  {
   "cell_type": "markdown",
   "id": "579d8349-6081-49c2-90a8-8f861947fcf4",
   "metadata": {},
   "source": [
    "### Defining the utility"
   ]
  },
  {
   "cell_type": "code",
   "execution_count": 26,
   "id": "9e2d96f4-d7d4-43fb-b569-2219f3c75830",
   "metadata": {},
   "outputs": [
    {
     "ename": "NameError",
     "evalue": "name 'expected_utility1' is not defined",
     "output_type": "error",
     "traceback": [
      "\u001b[1;31m---------------------------------------------------------------------------\u001b[0m",
      "\u001b[1;31mNameError\u001b[0m                                 Traceback (most recent call last)",
      "\u001b[1;32m~\\AppData\\Local\\Temp/ipykernel_18588/3630170362.py\u001b[0m in \u001b[0;36m<module>\u001b[1;34m\u001b[0m\n\u001b[0;32m      6\u001b[0m \u001b[1;33m\u001b[0m\u001b[0m\n\u001b[0;32m      7\u001b[0m     \u001b[1;32mif\u001b[0m \u001b[0mlen\u001b[0m\u001b[1;33m(\u001b[0m\u001b[0mindex\u001b[0m\u001b[1;33m)\u001b[0m \u001b[1;33m>\u001b[0m \u001b[1;36m0\u001b[0m\u001b[1;33m:\u001b[0m\u001b[1;33m\u001b[0m\u001b[1;33m\u001b[0m\u001b[0m\n\u001b[1;32m----> 8\u001b[1;33m         \u001b[1;32mif\u001b[0m \u001b[0mnp\u001b[0m\u001b[1;33m.\u001b[0m\u001b[0msum\u001b[0m\u001b[1;33m(\u001b[0m\u001b[0mexpected_utility1\u001b[0m\u001b[1;33m[\u001b[0m\u001b[0mindex\u001b[0m\u001b[1;33m]\u001b[0m\u001b[1;33m)\u001b[0m \u001b[1;33m>=\u001b[0m \u001b[0mnp\u001b[0m\u001b[1;33m.\u001b[0m\u001b[0msum\u001b[0m\u001b[1;33m(\u001b[0m\u001b[0mexpected_utility2\u001b[0m\u001b[1;33m[\u001b[0m\u001b[0mindex\u001b[0m\u001b[1;33m]\u001b[0m\u001b[1;33m)\u001b[0m\u001b[1;33m:\u001b[0m\u001b[1;33m\u001b[0m\u001b[1;33m\u001b[0m\u001b[0m\n\u001b[0m\u001b[0;32m      9\u001b[0m             \u001b[0moptimal_action\u001b[0m\u001b[1;33m[\u001b[0m\u001b[0mi\u001b[0m\u001b[1;33m,\u001b[0m\u001b[1;36m0\u001b[0m\u001b[1;33m]\u001b[0m \u001b[1;33m=\u001b[0m \u001b[1;36m1\u001b[0m\u001b[1;33m\u001b[0m\u001b[1;33m\u001b[0m\u001b[0m\n\u001b[0;32m     10\u001b[0m         \u001b[1;32melse\u001b[0m\u001b[1;33m:\u001b[0m\u001b[1;33m\u001b[0m\u001b[1;33m\u001b[0m\u001b[0m\n",
      "\u001b[1;31mNameError\u001b[0m: name 'expected_utility1' is not defined"
     ]
    }
   ],
   "source": [
    "#finding optimal action for given symptoms for each individual\n",
    "\n",
    "optimal_action = np.zeros([X.shape[0],2])\n",
    "for i in range(X.shape[0]):\n",
    "    index = np.argwhere(np.array(X.iloc[i,2:10]) == np.ones(8)).flatten().tolist()\n",
    "    \n",
    "    if len(index) > 0:\n",
    "        if np.sum(expected_utility1[index]) >= np.sum(expected_utility2[index]):\n",
    "            optimal_action[i,0] = 1\n",
    "        else:\n",
    "            optimal_action[i,1] = 1"
   ]
  },
  {
   "cell_type": "markdown",
   "id": "6fe7876b-35d0-49bf-9c19-0637175b9960",
   "metadata": {
    "tags": []
   },
   "source": [
    "## Bootstrap the data for:\n",
    "Provide error bounds on the expected utility and explain how those were obtained."
   ]
  },
  {
   "cell_type": "markdown",
   "id": "94e7218e-98ee-4315-9595-1f5b8d444b9f",
   "metadata": {},
   "source": [
    "## Expected utility for improved policy"
   ]
  },
  {
   "cell_type": "code",
   "execution_count": 15,
   "id": "c541b607-ca97-47a5-8a06-05ce0c7e739a",
   "metadata": {},
   "outputs": [],
   "source": [
    "X1_improved = pd.DataFrame([X.iloc[i] for i in range(len(optimal_action)) if optimal_action[i][0] == 1])\n",
    "X2_improved = pd.DataFrame([X.iloc[i] for i in range(len(optimal_action)) if optimal_action[i][1] == 1])"
   ]
  },
  {
   "cell_type": "code",
   "execution_count": 276,
   "id": "bc02a213-be3f-41d4-8f4e-da82fd67de39",
   "metadata": {},
   "outputs": [],
   "source": [
    "#taken from \"simulator.py\" file\n",
    "\n",
    "def treatment(X,p):\n",
    "    A = np.random.uniform(size=[2,8])\n",
    "    treatments = np.zeros([X.shape[0], 2])\n",
    "    result = np.zeros([X.shape[0], 8])\n",
    "    for t in range(X.shape[0]):\n",
    "        treatments[t] = optimal_action[t]\n",
    "        r = np.array(np.matrix(treatments[t]) * A).flatten()\n",
    "        for k in range(8):\n",
    "            result[t,k] = np.random.choice(2,p=[1-p[k],p[k]])\n",
    "        ##print(\"X:\", X[t,:self.n_symptoms] , \"Y:\",  result[t])\n",
    "    return treatments, result"
   ]
  },
  {
   "cell_type": "code",
   "execution_count": 295,
   "id": "d3eaeb78-061c-4a3e-9f2d-ade31ab9026e",
   "metadata": {},
   "outputs": [],
   "source": [
    "p_symptoms1 = np.zeros(8)\n",
    "p_symptoms2 = np.zeros(8)\n",
    "for i in range(8):\n",
    "    p_symptoms1[i] = y1.iloc[:,i+2].mean()\n",
    "    p_symptoms2[i] = y2.iloc[:,i+2].mean()"
   ]
  },
  {
   "cell_type": "code",
   "execution_count": 304,
   "id": "87a9a8a6-3cd7-4b55-a745-27c18c2bbd9f",
   "metadata": {},
   "outputs": [],
   "source": [
    "Y1_new = pd.DataFrame(treatment(X1_improved.iloc[:,2:10],y1_proba)[1], columns = symptom_names[2:10])\n",
    "Y2_new = pd.DataFrame(treatment(X2_improved.iloc[:,2:10],y2_proba)[1], columns = symptom_names[2:10])"
   ]
  },
  {
   "cell_type": "code",
   "execution_count": 305,
   "id": "4f3f3e21-f2ae-4668-95a2-da5c0604fe10",
   "metadata": {},
   "outputs": [],
   "source": [
    "new_action = pd.DataFrame({'Treatment1':optimal_action[:,0],'Treatment2':optimal_action[:,1]})"
   ]
  },
  {
   "cell_type": "code",
   "execution_count": 306,
   "id": "80abf785-5997-4370-8ed5-e66736e8fd53",
   "metadata": {},
   "outputs": [],
   "source": [
    "#doing the same as above for computing the expected utility\n",
    "\n",
    "u1_new = get_utility(None,None,Y1_new)\n",
    "u2_new = get_utility(None,None,Y2_new)\n",
    "\n",
    "y2_new_proba = train_pred(X2_improved.iloc[:,2:10],Y2_new)\n",
    "y1_new_proba = train_pred(X1_improved.iloc[:,2:10],Y1_new)"
   ]
  },
  {
   "cell_type": "code",
   "execution_count": 307,
   "id": "5c428fda-6513-4f77-a376-a16f9d0f8e32",
   "metadata": {},
   "outputs": [],
   "source": [
    "new_expected_utility1 = y1_new_proba.T @ u1_new[2:]\n",
    "new_expected_utility2 = y2_new_proba.T @ u2_new[2:]"
   ]
  },
  {
   "cell_type": "code",
   "execution_count": 310,
   "id": "d39e7279-e4a7-48bd-9cfe-1b66fe64fa87",
   "metadata": {},
   "outputs": [
    {
     "data": {
      "text/plain": [
       "-0.12802193583611057"
      ]
     },
     "execution_count": 310,
     "metadata": {},
     "output_type": "execute_result"
    }
   ],
   "source": [
    "new_expected_utility1/len(X1_improved)"
   ]
  },
  {
   "cell_type": "code",
   "execution_count": 12,
   "id": "9bb8202a-46ea-4acc-932f-0621d62bd9f6",
   "metadata": {},
   "outputs": [
    {
     "ename": "NameError",
     "evalue": "name 'new_expected_utility2' is not defined",
     "output_type": "error",
     "traceback": [
      "\u001b[1;31m---------------------------------------------------------------------------\u001b[0m",
      "\u001b[1;31mNameError\u001b[0m                                 Traceback (most recent call last)",
      "\u001b[1;32m~\\AppData\\Local\\Temp/ipykernel_7076/2663515332.py\u001b[0m in \u001b[0;36m<module>\u001b[1;34m\u001b[0m\n\u001b[1;32m----> 1\u001b[1;33m \u001b[0mnew_expected_utility2\u001b[0m\u001b[1;33m/\u001b[0m\u001b[0mlen\u001b[0m\u001b[1;33m(\u001b[0m\u001b[0mX2_improved\u001b[0m\u001b[1;33m)\u001b[0m\u001b[1;33m\u001b[0m\u001b[1;33m\u001b[0m\u001b[0m\n\u001b[0m",
      "\u001b[1;31mNameError\u001b[0m: name 'new_expected_utility2' is not defined"
     ]
    }
   ],
   "source": [
    "new_expected_utility2/len(X2_improved)"
   ]
  },
  {
   "cell_type": "code",
   "execution_count": 23,
   "id": "27a8e6ea",
   "metadata": {},
   "outputs": [],
   "source": [
    "pop = simulator.Population(128, 3, 2)\n"
   ]
  },
  {
   "cell_type": "code",
   "execution_count": 136,
   "id": "3c9e7a46",
   "metadata": {},
   "outputs": [
    {
     "name": "stdout",
     "output_type": "stream",
     "text": [
      "Initialising policy with  4 actions\n",
      "A = { ['Vacc_0', 'Vacc_1', 'Vacc_2', 'Vacc_3'] }\n",
      "Initialising policy with  4 actions\n",
      "A = { [0, 1, 2, 3] }\n"
     ]
    }
   ],
   "source": [
    "vacc_names = [f'Vacc_{i}' for i in range(4)]\n",
    "vaccine_policy = NewPolicy(4, vacc_names, \n",
    "                           MLPModel(activation='logistic', random_state=0)) # make sure to add -1 for 'no vaccine'\n",
    "rand_policy = RandomPolicy(4, list(range(4)))\n",
    "\n",
    "# Only generate the population once, and then reuse previous result\n",
    "pol_X = pd.DataFrame(getattr(pop, 'X', pop.generate(10_000)), columns=X.columns)\n",
    "\n",
    "# Add Vacc_0 to the features when the person is not vaccinated\n",
    "vacc_features= X_tr.assign(Vacc_0 = (np.ones(X.shape[0]) - X.iloc[:, -3:].sum(axis=1)))\n",
    "\n",
    "# Must observe something to fit the model to make get_action work\n",
    "vaccine_policy.observe(vacc_features, [], Y_tr)\n",
    "\n",
    "pol_A = pd.DataFrame(vaccine_policy.get_action(pol_X), columns=vacc_names)\n",
    "rand_A = rand_policy.get_action(pol_X)"
   ]
  },
  {
   "cell_type": "code",
   "execution_count": 202,
   "id": "82a3dd64",
   "metadata": {},
   "outputs": [
    {
     "name": "stdout",
     "output_type": "stream",
     "text": [
      "Utility before vaccination -1502.8800000000028\n",
      "Utility after vaccination -6856.1304037796235\n",
      "Utility random vaccination policy -10971.1\n"
     ]
    }
   ],
   "source": [
    "pol_Y = pd.DataFrame(pop.vaccinate(np.arange(10_000), pol_A.iloc[:, -1:].to_numpy()), columns=Y.columns)\n",
    "rand_Y = pop.vaccinate(np.arange(10_000), rand_A[:,-1:])\n",
    "\n",
    "print(f\"Utility before vaccination {vaccine_policy.get_utility(pol_X, [], pol_X.iloc[:,:10])}\")\n",
    "print(f\"Utility after vaccination {vaccine_policy.get_utility(pol_X, pol_A, pol_Y)}\")\n",
    "print(f\"Utility random vaccination policy {rand_policy.get_utility(pol_X, rand_A, rand_Y)}\")"
   ]
  },
  {
   "cell_type": "markdown",
   "id": "8764dfa2",
   "metadata": {},
   "source": [
    "The utility after vaccination is a lot lower than it was before the vaccination, but that is because the vaccinate method only adds symptoms randomly, and does not remove any. We do see, however, that the new vaccination policy gives better utility than the random one. "
   ]
  },
  {
   "cell_type": "code",
   "execution_count": 139,
   "id": "148dca74",
   "metadata": {},
   "outputs": [
    {
     "name": "stdout",
     "output_type": "stream",
     "text": [
      "Initialising policy with  2 actions\n",
      "A = { ['Treatment_1', 'Treatment_2'] }\n",
      "Initialising policy with  2 actions\n",
      "A = { [0, 1] }\n"
     ]
    }
   ],
   "source": [
    "treatment_policy = NewPolicy(2, ['Treatment_1', 'Treatment_2'], \n",
    "                           MLPModel(activation='logistic', random_state=0)) # make sure to add -1 for 'no vaccine'\n",
    "rand_treat_policy = RandomPolicy(2, list(range(2)))\n",
    "\n",
    "\n",
    "treat_X = pd.DataFrame(pop.X, columns=X.columns)\n",
    "\n",
    "# Must observe something to fit the model to make get_action work\n",
    "treatment_policy.observe(X_tr, a, Y_tr)"
   ]
  },
  {
   "cell_type": "code",
   "execution_count": 205,
   "id": "d5635d6b",
   "metadata": {},
   "outputs": [
    {
     "name": "stdout",
     "output_type": "stream",
     "text": [
      "Utility before treatment -1502.8800000000028\n",
      "Utility after treatment -1413.6091145212563\n",
      "Utility random treatment policy -4229.4\n"
     ]
    }
   ],
   "source": [
    "treat_act, treat_Y = pop.treatment(treat_X, treatment_policy)\n",
    "treat_act_rand, rand_treat_Y = pop.treatment(treat_X, rand_treat_policy)\n",
    "\n",
    "print(f\"Utility before treatment {treatment_policy.get_utility(treat_X, [], treat_X.iloc[:, :10])}\")\n",
    "print(f\"Utility after treatment {treatment_policy.get_utility(treat_X, pd.DataFrame(treat_act, columns=treatment_policy.action_set), pd.DataFrame(treat_Y, columns=Y.columns))}\")\n",
    "print(f\"Utility random treatment policy {rand_treat_policy.get_utility(treat_X, treat_act_rand, rand_treat_Y)}\")\n"
   ]
  },
  {
   "cell_type": "markdown",
   "id": "8c1960dc",
   "metadata": {},
   "source": [
    "Here the actions chosen by the new treatment policy gives slightly better utility than before treatment, and much better than the utility from the random policy."
   ]
  },
  {
   "cell_type": "code",
   "execution_count": null,
   "id": "13d01201",
   "metadata": {},
   "outputs": [],
   "source": []
  }
 ],
 "metadata": {
  "kernelspec": {
   "display_name": "Python 3 (ipykernel)",
   "language": "python",
   "name": "python3"
  },
  "language_info": {
   "codemirror_mode": {
    "name": "ipython",
    "version": 3
   },
   "file_extension": ".py",
   "mimetype": "text/x-python",
   "name": "python",
   "nbconvert_exporter": "python",
   "pygments_lexer": "ipython3",
   "version": "3.9.7"
  }
 },
 "nbformat": 4,
 "nbformat_minor": 5
}
